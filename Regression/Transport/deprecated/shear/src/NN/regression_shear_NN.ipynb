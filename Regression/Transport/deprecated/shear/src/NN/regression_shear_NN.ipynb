{
 "cells": [
  {
   "cell_type": "markdown",
   "id": "b744d894",
   "metadata": {},
   "source": [
    "# Regression of Transport coefficients with Neural Networks\n",
    "\n",
    "In this notebook, the **shear viscosity** is regressed and predicted with a simple sequential NN architecture."
   ]
  },
  {
   "cell_type": "markdown",
   "id": "c227e14f",
   "metadata": {},
   "source": [
    "### Install modules"
   ]
  },
  {
   "cell_type": "code",
   "execution_count": 61,
   "id": "43fd0001",
   "metadata": {},
   "outputs": [
    {
     "name": "stdout",
     "output_type": "stream",
     "text": [
      "Requirement already satisfied: tensorflow==1.15.2 in /home/lk/intel/oneapi/intelpython/python3.7/lib/python3.7/site-packages (1.15.2)\n",
      "Requirement already satisfied: absl-py>=0.7.0 in /home/lk/intel/oneapi/intelpython/python3.7/lib/python3.7/site-packages (from tensorflow==1.15.2) (0.15.0)\n",
      "Requirement already satisfied: google-pasta>=0.1.6 in /home/lk/intel/oneapi/intelpython/python3.7/lib/python3.7/site-packages (from tensorflow==1.15.2) (0.2.0)\n",
      "Requirement already satisfied: astor>=0.6.0 in /home/lk/intel/oneapi/intelpython/python3.7/lib/python3.7/site-packages (from tensorflow==1.15.2) (0.8.1)\n",
      "Requirement already satisfied: numpy<2.0,>=1.16.0 in /home/lk/intel/oneapi/intelpython/python3.7/lib/python3.7/site-packages (from tensorflow==1.15.2) (1.20.3)\n",
      "Requirement already satisfied: tensorboard<1.16.0,>=1.15.0 in /home/lk/intel/oneapi/intelpython/python3.7/lib/python3.7/site-packages (from tensorflow==1.15.2) (1.15.0)\n",
      "Requirement already satisfied: wrapt>=1.11.1 in /home/lk/intel/oneapi/intelpython/python3.7/lib/python3.7/site-packages (from tensorflow==1.15.2) (1.13.3)\n",
      "Requirement already satisfied: opt-einsum>=2.3.2 in /home/lk/intel/oneapi/intelpython/python3.7/lib/python3.7/site-packages (from tensorflow==1.15.2) (3.3.0)\n",
      "Requirement already satisfied: protobuf>=3.6.1 in /home/lk/intel/oneapi/intelpython/python3.7/lib/python3.7/site-packages (from tensorflow==1.15.2) (3.19.1)\n",
      "Requirement already satisfied: six>=1.10.0 in /home/lk/intel/oneapi/intelpython/python3.7/lib/python3.7/site-packages (from tensorflow==1.15.2) (1.16.0)\n",
      "Requirement already satisfied: grpcio>=1.8.6 in /home/lk/intel/oneapi/intelpython/python3.7/lib/python3.7/site-packages (from tensorflow==1.15.2) (1.41.1)\n",
      "Requirement already satisfied: gast==0.2.2 in /home/lk/intel/oneapi/intelpython/python3.7/lib/python3.7/site-packages (from tensorflow==1.15.2) (0.2.2)\n",
      "Requirement already satisfied: wheel>=0.26 in /home/lk/intel/oneapi/intelpython/python3.7/lib/python3.7/site-packages (from tensorflow==1.15.2) (0.36.2)\n",
      "Requirement already satisfied: tensorflow-estimator==1.15.1 in /home/lk/intel/oneapi/intelpython/python3.7/lib/python3.7/site-packages (from tensorflow==1.15.2) (1.15.1)\n",
      "Requirement already satisfied: keras-preprocessing>=1.0.5 in /home/lk/intel/oneapi/intelpython/python3.7/lib/python3.7/site-packages (from tensorflow==1.15.2) (1.1.2)\n",
      "Requirement already satisfied: keras-applications>=1.0.8 in /home/lk/intel/oneapi/intelpython/python3.7/lib/python3.7/site-packages (from tensorflow==1.15.2) (1.0.8)\n",
      "Requirement already satisfied: termcolor>=1.1.0 in /home/lk/intel/oneapi/intelpython/python3.7/lib/python3.7/site-packages (from tensorflow==1.15.2) (1.1.0)\n",
      "Requirement already satisfied: h5py in /home/lk/intel/oneapi/intelpython/python3.7/lib/python3.7/site-packages (from keras-applications>=1.0.8->tensorflow==1.15.2) (3.5.0)\n",
      "Requirement already satisfied: werkzeug>=0.11.15 in /home/lk/intel/oneapi/intelpython/python3.7/lib/python3.7/site-packages (from tensorboard<1.16.0,>=1.15.0->tensorflow==1.15.2) (2.0.2)\n",
      "Requirement already satisfied: markdown>=2.6.8 in /home/lk/intel/oneapi/intelpython/python3.7/lib/python3.7/site-packages (from tensorboard<1.16.0,>=1.15.0->tensorflow==1.15.2) (3.3.4)\n",
      "Requirement already satisfied: setuptools>=41.0.0 in /home/lk/intel/oneapi/intelpython/python3.7/lib/python3.7/site-packages (from tensorboard<1.16.0,>=1.15.0->tensorflow==1.15.2) (52.0.0.post20210501)\n",
      "Requirement already satisfied: importlib-metadata in /home/lk/intel/oneapi/intelpython/python3.7/lib/python3.7/site-packages (from markdown>=2.6.8->tensorboard<1.16.0,>=1.15.0->tensorflow==1.15.2) (4.2.0)\n",
      "Requirement already satisfied: cached-property in /home/lk/intel/oneapi/intelpython/python3.7/lib/python3.7/site-packages (from h5py->keras-applications>=1.0.8->tensorflow==1.15.2) (1.5.2)\n",
      "Requirement already satisfied: zipp>=0.5 in /home/lk/intel/oneapi/intelpython/python3.7/lib/python3.7/site-packages (from importlib-metadata->markdown>=2.6.8->tensorboard<1.16.0,>=1.15.0->tensorflow==1.15.2) (3.6.0)\n",
      "Requirement already satisfied: typing-extensions>=3.6.4 in /home/lk/intel/oneapi/intelpython/python3.7/lib/python3.7/site-packages (from importlib-metadata->markdown>=2.6.8->tensorboard<1.16.0,>=1.15.0->tensorflow==1.15.2) (4.0.0)\n",
      "Requirement already satisfied: livelossplot in /home/lk/intel/oneapi/intelpython/python3.7/lib/python3.7/site-packages (0.5.4)\n",
      "Requirement already satisfied: bokeh in /home/lk/intel/oneapi/intelpython/python3.7/lib/python3.7/site-packages (from livelossplot) (2.4.2)\n",
      "Requirement already satisfied: ipython in /home/lk/intel/oneapi/intelpython/python3.7/lib/python3.7/site-packages (from livelossplot) (7.29.0)\n",
      "Requirement already satisfied: matplotlib in /home/lk/intel/oneapi/intelpython/python3.7/lib/python3.7/site-packages (from livelossplot) (3.1.2)\n",
      "Requirement already satisfied: PyYAML>=3.10 in /home/lk/intel/oneapi/intelpython/python3.7/lib/python3.7/site-packages (from bokeh->livelossplot) (5.3.1)\n",
      "Requirement already satisfied: pillow>=7.1.0 in /home/lk/intel/oneapi/intelpython/python3.7/lib/python3.7/site-packages (from bokeh->livelossplot) (8.4.0)\n",
      "Requirement already satisfied: tornado>=5.1 in /home/lk/intel/oneapi/intelpython/python3.7/lib/python3.7/site-packages (from bokeh->livelossplot) (6.1)\n",
      "Requirement already satisfied: numpy>=1.11.3 in /home/lk/intel/oneapi/intelpython/python3.7/lib/python3.7/site-packages (from bokeh->livelossplot) (1.20.3)\n",
      "Requirement already satisfied: Jinja2>=2.9 in /home/lk/intel/oneapi/intelpython/python3.7/lib/python3.7/site-packages (from bokeh->livelossplot) (3.0.2)\n",
      "Requirement already satisfied: packaging>=16.8 in /home/lk/intel/oneapi/intelpython/python3.7/lib/python3.7/site-packages (from bokeh->livelossplot) (21.0)\n",
      "Requirement already satisfied: typing-extensions>=3.10.0 in /home/lk/intel/oneapi/intelpython/python3.7/lib/python3.7/site-packages (from bokeh->livelossplot) (4.0.0)\n",
      "Requirement already satisfied: MarkupSafe>=2.0 in /home/lk/intel/oneapi/intelpython/python3.7/lib/python3.7/site-packages (from Jinja2>=2.9->bokeh->livelossplot) (2.0.1)\n",
      "Requirement already satisfied: pyparsing>=2.0.2 in /home/lk/intel/oneapi/intelpython/python3.7/lib/python3.7/site-packages (from packaging>=16.8->bokeh->livelossplot) (2.4.7)\n",
      "Requirement already satisfied: traitlets>=4.2 in /home/lk/intel/oneapi/intelpython/python3.7/lib/python3.7/site-packages (from ipython->livelossplot) (5.1.1)\n",
      "Requirement already satisfied: pexpect>4.3 in /home/lk/intel/oneapi/intelpython/python3.7/lib/python3.7/site-packages (from ipython->livelossplot) (4.8.0)\n",
      "Requirement already satisfied: jedi>=0.16 in /home/lk/intel/oneapi/intelpython/python3.7/lib/python3.7/site-packages (from ipython->livelossplot) (0.18.1)\n",
      "Requirement already satisfied: prompt-toolkit!=3.0.0,!=3.0.1,<3.1.0,>=2.0.0 in /home/lk/intel/oneapi/intelpython/python3.7/lib/python3.7/site-packages (from ipython->livelossplot) (3.0.22)\n",
      "Requirement already satisfied: decorator in /home/lk/intel/oneapi/intelpython/python3.7/lib/python3.7/site-packages (from ipython->livelossplot) (5.1.0)\n",
      "Requirement already satisfied: backcall in /home/lk/intel/oneapi/intelpython/python3.7/lib/python3.7/site-packages (from ipython->livelossplot) (0.2.0)\n",
      "Requirement already satisfied: pygments in /home/lk/intel/oneapi/intelpython/python3.7/lib/python3.7/site-packages (from ipython->livelossplot) (2.10.0)\n",
      "Requirement already satisfied: matplotlib-inline in /home/lk/intel/oneapi/intelpython/python3.7/lib/python3.7/site-packages (from ipython->livelossplot) (0.1.3)\n",
      "Requirement already satisfied: setuptools>=18.5 in /home/lk/intel/oneapi/intelpython/python3.7/lib/python3.7/site-packages (from ipython->livelossplot) (52.0.0.post20210501)\n",
      "Requirement already satisfied: pickleshare in /home/lk/intel/oneapi/intelpython/python3.7/lib/python3.7/site-packages (from ipython->livelossplot) (0.7.5)\n",
      "Requirement already satisfied: parso<0.9.0,>=0.8.0 in /home/lk/intel/oneapi/intelpython/python3.7/lib/python3.7/site-packages (from jedi>=0.16->ipython->livelossplot) (0.8.2)\n",
      "Requirement already satisfied: ptyprocess>=0.5 in /home/lk/intel/oneapi/intelpython/python3.7/lib/python3.7/site-packages (from pexpect>4.3->ipython->livelossplot) (0.7.0)\n"
     ]
    },
    {
     "name": "stdout",
     "output_type": "stream",
     "text": [
      "Requirement already satisfied: wcwidth in /home/lk/intel/oneapi/intelpython/python3.7/lib/python3.7/site-packages (from prompt-toolkit!=3.0.0,!=3.0.1,<3.1.0,>=2.0.0->ipython->livelossplot) (0.2.5)\n",
      "Requirement already satisfied: cycler>=0.10 in /home/lk/intel/oneapi/intelpython/python3.7/lib/python3.7/site-packages (from matplotlib->livelossplot) (0.10.0)\n",
      "Requirement already satisfied: kiwisolver>=1.0.1 in /home/lk/intel/oneapi/intelpython/python3.7/lib/python3.7/site-packages (from matplotlib->livelossplot) (1.3.1)\n",
      "Requirement already satisfied: python-dateutil>=2.1 in /home/lk/intel/oneapi/intelpython/python3.7/lib/python3.7/site-packages (from matplotlib->livelossplot) (2.8.2)\n",
      "Requirement already satisfied: six in /home/lk/intel/oneapi/intelpython/python3.7/lib/python3.7/site-packages (from cycler>=0.10->matplotlib->livelossplot) (1.16.0)\n",
      "Requirement already satisfied: numpy in /home/lk/intel/oneapi/intelpython/python3.7/lib/python3.7/site-packages (1.20.3)\n",
      "Requirement already satisfied: matplotlib in /home/lk/intel/oneapi/intelpython/python3.7/lib/python3.7/site-packages (3.1.2)\n",
      "Requirement already satisfied: cycler>=0.10 in /home/lk/intel/oneapi/intelpython/python3.7/lib/python3.7/site-packages (from matplotlib) (0.10.0)\n",
      "Requirement already satisfied: kiwisolver>=1.0.1 in /home/lk/intel/oneapi/intelpython/python3.7/lib/python3.7/site-packages (from matplotlib) (1.3.1)\n",
      "Requirement already satisfied: pyparsing!=2.0.4,!=2.1.2,!=2.1.6,>=2.0.1 in /home/lk/intel/oneapi/intelpython/python3.7/lib/python3.7/site-packages (from matplotlib) (2.4.7)\n",
      "Requirement already satisfied: python-dateutil>=2.1 in /home/lk/intel/oneapi/intelpython/python3.7/lib/python3.7/site-packages (from matplotlib) (2.8.2)\n",
      "Requirement already satisfied: numpy>=1.11 in /home/lk/intel/oneapi/intelpython/python3.7/lib/python3.7/site-packages (from matplotlib) (1.20.3)\n",
      "Requirement already satisfied: six in /home/lk/intel/oneapi/intelpython/python3.7/lib/python3.7/site-packages (from cycler>=0.10->matplotlib) (1.16.0)\n",
      "Requirement already satisfied: scipy in /home/lk/intel/oneapi/intelpython/python3.7/lib/python3.7/site-packages (1.6.2)\n",
      "Requirement already satisfied: numpy<1.23.0,>=1.16.5 in /home/lk/intel/oneapi/intelpython/python3.7/lib/python3.7/site-packages (from scipy) (1.20.3)\n",
      "Requirement already satisfied: seaborn in /home/lk/intel/oneapi/intelpython/python3.7/lib/python3.7/site-packages (0.11.2)\n",
      "Requirement already satisfied: pandas>=0.23 in /home/lk/intel/oneapi/intelpython/python3.7/lib/python3.7/site-packages (from seaborn) (1.2.0)\n",
      "Requirement already satisfied: numpy>=1.15 in /home/lk/intel/oneapi/intelpython/python3.7/lib/python3.7/site-packages (from seaborn) (1.20.3)\n",
      "Requirement already satisfied: matplotlib>=2.2 in /home/lk/intel/oneapi/intelpython/python3.7/lib/python3.7/site-packages (from seaborn) (3.1.2)\n",
      "Requirement already satisfied: scipy>=1.0 in /home/lk/intel/oneapi/intelpython/python3.7/lib/python3.7/site-packages (from seaborn) (1.6.2)\n",
      "Requirement already satisfied: cycler>=0.10 in /home/lk/intel/oneapi/intelpython/python3.7/lib/python3.7/site-packages (from matplotlib>=2.2->seaborn) (0.10.0)\n",
      "Requirement already satisfied: kiwisolver>=1.0.1 in /home/lk/intel/oneapi/intelpython/python3.7/lib/python3.7/site-packages (from matplotlib>=2.2->seaborn) (1.3.1)\n",
      "Requirement already satisfied: pyparsing!=2.0.4,!=2.1.2,!=2.1.6,>=2.0.1 in /home/lk/intel/oneapi/intelpython/python3.7/lib/python3.7/site-packages (from matplotlib>=2.2->seaborn) (2.4.7)\n",
      "Requirement already satisfied: python-dateutil>=2.1 in /home/lk/intel/oneapi/intelpython/python3.7/lib/python3.7/site-packages (from matplotlib>=2.2->seaborn) (2.8.2)\n",
      "Requirement already satisfied: six in /home/lk/intel/oneapi/intelpython/python3.7/lib/python3.7/site-packages (from cycler>=0.10->matplotlib>=2.2->seaborn) (1.16.0)\n",
      "Requirement already satisfied: pytz>=2017.3 in /home/lk/intel/oneapi/intelpython/python3.7/lib/python3.7/site-packages (from pandas>=0.23->seaborn) (2021.1)\n",
      "Requirement already satisfied: pandas in /home/lk/intel/oneapi/intelpython/python3.7/lib/python3.7/site-packages (1.2.0)\n",
      "Requirement already satisfied: python-dateutil>=2.7.3 in /home/lk/intel/oneapi/intelpython/python3.7/lib/python3.7/site-packages (from pandas) (2.8.2)\n",
      "Requirement already satisfied: pytz>=2017.3 in /home/lk/intel/oneapi/intelpython/python3.7/lib/python3.7/site-packages (from pandas) (2021.1)\n",
      "Requirement already satisfied: numpy>=1.16.5 in /home/lk/intel/oneapi/intelpython/python3.7/lib/python3.7/site-packages (from pandas) (1.20.3)\n",
      "Requirement already satisfied: six>=1.5 in /home/lk/intel/oneapi/intelpython/python3.7/lib/python3.7/site-packages (from python-dateutil>=2.7.3->pandas) (1.16.0)\n",
      "Requirement already satisfied: sklearn in /home/lk/intel/oneapi/intelpython/python3.7/lib/python3.7/site-packages (0.0)\n",
      "Requirement already satisfied: scikit-learn in /home/lk/intel/oneapi/intelpython/python3.7/lib/python3.7/site-packages (from sklearn) (0.24.2)\n",
      "Requirement already satisfied: numpy>=1.13.3 in /home/lk/intel/oneapi/intelpython/python3.7/lib/python3.7/site-packages (from scikit-learn->sklearn) (1.20.3)\n",
      "Requirement already satisfied: scipy>=0.19.1 in /home/lk/intel/oneapi/intelpython/python3.7/lib/python3.7/site-packages (from scikit-learn->sklearn) (1.6.2)\n",
      "Requirement already satisfied: joblib>=0.11 in /home/lk/intel/oneapi/intelpython/python3.7/lib/python3.7/site-packages (from scikit-learn->sklearn) (1.0.1)\n",
      "Requirement already satisfied: threadpoolctl>=2.0.0 in /home/lk/intel/oneapi/intelpython/python3.7/lib/python3.7/site-packages (from scikit-learn->sklearn) (2.1.0)\n",
      "Requirement already satisfied: ann_visualizer in /home/lk/intel/oneapi/intelpython/python3.7/lib/python3.7/site-packages (2.5)\n",
      "Requirement already satisfied: keras-sequential-ascii in /home/lk/intel/oneapi/intelpython/python3.7/lib/python3.7/site-packages (0.1.1)\n",
      "Requirement already satisfied: keras in /home/lk/intel/oneapi/intelpython/python3.7/lib/python3.7/site-packages (from keras-sequential-ascii) (2.7.0)\n",
      "Requirement already satisfied: joblib in /home/lk/intel/oneapi/intelpython/python3.7/lib/python3.7/site-packages (1.0.1)\n"
     ]
    }
   ],
   "source": [
    "# some module may be missing ...\n",
    "!pip install tensorflow==1.15.2 # could be troublesome to find (maybe it works also with newer versions)\n",
    "!pip install livelossplot\n",
    "!pip install numpy\n",
    "!pip install matplotlib\n",
    "!pip install scipy\n",
    "!pip install seaborn\n",
    "!pip install pandas\n",
    "!pip install sklearn\n",
    "!pip install ann_visualizer\n",
    "!pip install keras-sequential-ascii\n",
    "!pip install joblib"
   ]
  },
  {
   "cell_type": "markdown",
   "id": "3001b357",
   "metadata": {},
   "source": [
    "### Load modules"
   ]
  },
  {
   "cell_type": "code",
   "execution_count": 76,
   "id": "77780b3e",
   "metadata": {},
   "outputs": [
    {
     "name": "stdout",
     "output_type": "stream",
     "text": [
      "1.15.2\n",
      "0.24.2\n"
     ]
    }
   ],
   "source": [
    "import matplotlib.pyplot as plt\n",
    "from matplotlib import pyplot as plt\n",
    "import numpy as np\n",
    "import pandas as pd\n",
    "import seaborn as sns\n",
    "import tensorflow as tf\n",
    "print(tf.__version__)\n",
    "\n",
    "import sklearn\n",
    "print(sklearn.__version__)\n",
    "\n",
    "from sklearn.model_selection import train_test_split\n",
    "from sklearn.model_selection import cross_val_score\n",
    "from sklearn.model_selection import KFold, StratifiedKFold\n",
    "from sklearn.pipeline import Pipeline\n",
    "from sklearn.preprocessing import MinMaxScaler, StandardScaler, RobustScaler, minmax_scale, MaxAbsScaler, Normalizer, QuantileTransformer, PowerTransformer\n",
    "from sklearn import metrics\n",
    "\n",
    "from tensorflow import keras\n",
    "from tensorflow.keras import layers\n",
    "from tensorflow.python.keras.models import Sequential\n",
    "from tensorflow.python.keras.wrappers.scikit_learn import KerasRegressor\n",
    "from tensorflow.keras import regularizers\n",
    "from tensorflow.keras.callbacks import EarlyStopping\n",
    "\n",
    "from keras_sequential_ascii import keras2ascii\n",
    "\n",
    "import os;\n",
    "path=\".\"\n",
    "os.chdir(path)\n",
    "os.getcwd()\n",
    "\n",
    "import csv\n",
    "import time\n",
    "\n",
    "from IPython.display import clear_output\n",
    "from livelossplot import PlotLossesKeras\n",
    "\n",
    "from ann_visualizer.visualize import ann_viz;\n",
    "\n",
    "from mpl_toolkits import mplot3d\n",
    "from mpl_toolkits.mplot3d import Axes3D\n",
    "\n",
    "import pickle\n",
    "from joblib import dump, load\n",
    "\n",
    "import sys\n",
    "sys.path.insert(0, './')\n",
    "\n",
    "from plotting import newfig, savefig # the file plotting.py should be present\n",
    "\n",
    "from matplotlib import rc\n",
    "rc(\"text\", usetex=False)"
   ]
  },
  {
   "cell_type": "markdown",
   "id": "c5ae2c92",
   "metadata": {},
   "source": [
    "### Load database"
   ]
  },
  {
   "cell_type": "code",
   "execution_count": 63,
   "id": "a1ef67f0",
   "metadata": {},
   "outputs": [
    {
     "name": "stdout",
     "output_type": "stream",
     "text": [
      "IN: 7 OUT: 1\n"
     ]
    }
   ],
   "source": [
    "# If the header is not present, we should not skip the first line\n",
    "#dataset = np.loadtxt(\"../../../Data/TCs_air5.txt\") # not efficient for big files\n",
    "with open('./TCs_air5.txt') as f:\n",
    "    lines = (line for line in f if not line.startswith('#'))\n",
    "    dataset = np.loadtxt(lines, skiprows=1)\n",
    "\n",
    "x = dataset[:,0:7] # T, P, x_N2, x_O2, x_NO, x_N, x_O\n",
    "y = dataset[:,7:8] # shear viscosity\n",
    "\n",
    "# dataset print info\n",
    "in_dim  = x.shape[1]\n",
    "out_dim = y.shape[1]\n",
    "print(\"IN:\", in_dim, \"OUT:\", out_dim)"
   ]
  },
  {
   "cell_type": "markdown",
   "id": "a0c121e2",
   "metadata": {},
   "source": [
    "### Sanity plot of dataset"
   ]
  },
  {
   "cell_type": "code",
   "execution_count": 74,
   "id": "dc98fdfc",
   "metadata": {},
   "outputs": [
    {
     "data": {
      "image/png": "[encoded data removed]",
      "text/plain": [
       "<Figure size 388.543x240.133 with 1 Axes>"
      ]
     },
     "metadata": {
      "needs_background": "light"
     },
     "output_type": "display_data"
    }
   ],
   "source": [
    "# 2D Plot\n",
    "plt.scatter(x[:,0], y, s=0.5)\n",
    "plt.title('Shear viscosity vs. Temperature -- Ground Truth')\n",
    "plt.xlabel('T [K]')\n",
    "plt.ylabel('$\\eta$ $[Pa-s]$')\n",
    "plt.tight_layout()\n",
    "plt.savefig(\"shear_viscosity.pdf\")\n",
    "plt.show()"
   ]
  },
  {
   "cell_type": "markdown",
   "id": "5188e5cf",
   "metadata": {},
   "source": [
    "### Dataset train/test split"
   ]
  },
  {
   "cell_type": "code",
   "execution_count": 65,
   "id": "e879f170",
   "metadata": {},
   "outputs": [
    {
     "name": "stdout",
     "output_type": "stream",
     "text": [
      "[INFO] Split data ...\n"
     ]
    }
   ],
   "source": [
    "print(\"[INFO] Split data ...\")\n",
    "x_train, x_test, y_train, y_test = train_test_split(x, y, train_size=0.75, test_size=0.25, random_state=666)"
   ]
  },
  {
   "cell_type": "markdown",
   "id": "fc7e0117",
   "metadata": {},
   "source": [
    "### Data standardization/normalization"
   ]
  },
  {
   "cell_type": "code",
   "execution_count": 66,
   "id": "a9b0fc75",
   "metadata": {},
   "outputs": [
    {
     "name": "stdout",
     "output_type": "stream",
     "text": [
      "[INFO] StandardScaling data ...\n"
     ]
    }
   ],
   "source": [
    "print(\"[INFO] StandardScaling data ...\")\n",
    "sc_x = StandardScaler()\n",
    "sc_y = StandardScaler()\n",
    "\n",
    "sc_x.fit(x_train)\n",
    "x_train = sc_x.transform(x_train)\n",
    "x_test  = sc_x.transform(x_test)\n",
    "\n",
    "sc_y.fit(y_train)\n",
    "y_train = sc_y.transform(y_train)\n",
    "y_test  = sc_y.transform(y_test)\n",
    "\n",
    "# Save scalers\n",
    "dump(sc_x, open('scaler_x.pkl', 'wb'))\n",
    "dump(sc_y, open('scaler_y.pkl', 'wb'))\n",
    "\n",
    "# Do not forget to inverse transforming back to the dimensional values at the end\n",
    "#x_test_dim = sc_x.inverse_transform(x_test)\n",
    "#y_test_dim = sc_y.inverse_transform(y_test)\n",
    "#y_regr_dim = sc_y.inverse_transform(y_regr)"
   ]
  },
  {
   "cell_type": "markdown",
   "id": "8dcb3cf9",
   "metadata": {},
   "source": [
    "### Model architecture"
   ]
  },
  {
   "cell_type": "code",
   "execution_count": 102,
   "id": "da55fa42",
   "metadata": {},
   "outputs": [
    {
     "name": "stdout",
     "output_type": "stream",
     "text": [
      "[INFO] Model build ...\n",
      "Model: \"sequential_12\"\n",
      "_________________________________________________________________\n",
      "Layer (type)                 Output Shape              Param #   \n",
      "=================================================================\n",
      "dense_42 (Dense)             (None, 70)                560       \n",
      "_________________________________________________________________\n",
      "dense_43 (Dense)             (None, 35)                2485      \n",
      "_________________________________________________________________\n",
      "dense_44 (Dense)             (None, 15)                540       \n",
      "_________________________________________________________________\n",
      "dense_45 (Dense)             (None, 1)                 16        \n",
      "=================================================================\n",
      "Total params: 3,601\n",
      "Trainable params: 3,601\n",
      "Non-trainable params: 0\n",
      "_________________________________________________________________\n",
      "           OPERATION           DATA DIMENSIONS   WEIGHTS(N)   WEIGHTS(%)\n",
      "\n",
      "               Input   #####           7\n",
      "               Dense   XXXXX -------------------       560    15.6%\n",
      "                relu   #####          70\n",
      "               Dense   XXXXX -------------------      2485    69.0%\n",
      "                relu   #####          35\n",
      "               Dense   XXXXX -------------------       540    15.0%\n",
      "                relu   #####          15\n",
      "               Dense   XXXXX -------------------        16     0.4%\n",
      "                       #####           1\n"
     ]
    }
   ],
   "source": [
    "print(\"[INFO] Model build ...\")\n",
    "model = Sequential()\n",
    "model.add(Dense(70, input_dim=in_dim, kernel_initializer='normal', kernel_regularizer=regularizers.l2(0.002), activation='relu'))\n",
    "model.add(Dense(35, activation='relu', kernel_regularizer=regularizers.l1(0.001)))\n",
    "#model.add(Dropout(0.5))\n",
    "model.add(Dense(15, activation='relu', kernel_regularizer=regularizers.l1_l2(l1=0.001, l2=0.001)))\n",
    "model.add(Dense(out_dim, activation='linear'))\n",
    "\n",
    "# Optimizer\n",
    "#opt = keras.optimizers.SGD(lr=0.01, momentum=0.9, decay=0.01)\n",
    "#opt = keras.optimizers.Adam(learning_rate=0.01)\n",
    "opt = keras.optimizers.Adam(learning_rate=0.01, decay=1e-3/100)\n",
    "\n",
    "# Optional callbacks\n",
    "model_path = './model.h5'\n",
    "tbCallBack = keras.callbacks.TensorBoard(log_dir='./Graph', histogram_freq=0, write_graph=True, write_images=True)\n",
    "checkpoint = keras.callbacks.ModelCheckpoint(model_path, monitor='val_loss', verbose=1, save_best_only=True, mode='min',save_weights_only=False)\n",
    "csv_logger = keras.callbacks.CSVLogger('training.log')\n",
    "earlystopping = keras.callbacks.EarlyStopping(monitor='val_loss', min_delta=0, patience=10, verbose=1, mode='auto', baseline=None, restore_best_weights=False)\n",
    "\n",
    "# Model visualization\n",
    "model.summary()\n",
    "\n",
    "# Just another way to visualize the model\n",
    "keras2ascii(model)"
   ]
  },
  {
   "cell_type": "markdown",
   "id": "06198819",
   "metadata": {},
   "source": [
    "### Configure the model for training"
   ]
  },
  {
   "cell_type": "code",
   "execution_count": 103,
   "id": "2c8ca911",
   "metadata": {},
   "outputs": [],
   "source": [
    "model.compile(loss='mse', metrics=['mse', 'mae', 'mape', 'msle'], optimizer=opt)"
   ]
  },
  {
   "cell_type": "markdown",
   "id": "468fb07c",
   "metadata": {},
   "source": [
    "### Train the model"
   ]
  },
  {
   "cell_type": "code",
   "execution_count": 104,
   "id": "3a5817d7",
   "metadata": {},
   "outputs": [
    {
     "name": "stdout",
     "output_type": "stream",
     "text": [
      "[INFO] training model...\n",
      "Train on 35100 samples, validate on 11700 samples\n",
      "Epoch 1/10\n",
      "\n",
      "Epoch 00001: val_loss improved from inf to 0.01801, saving model to ./model.h5\n",
      "35100/35100 - 3s - loss: 0.0665 - mean_squared_error: 0.0105 - mean_absolute_error: 0.0512 - mean_absolute_percentage_error: 18.2476 - mean_squared_logarithmic_error: 0.0016 - val_loss: 0.0180 - val_mean_squared_error: 7.4348e-04 - val_mean_absolute_error: 0.0171 - val_mean_absolute_percentage_error: 5.2827 - val_mean_squared_logarithmic_error: 4.3604e-05\n",
      "Epoch 2/10\n",
      "\n",
      "Epoch 00002: val_loss improved from 0.01801 to 0.01352, saving model to ./model.h5\n",
      "35100/35100 - 2s - loss: 0.0154 - mean_squared_error: 0.0013 - mean_absolute_error: 0.0261 - mean_absolute_percentage_error: 9.9926 - mean_squared_logarithmic_error: 1.4443e-04 - val_loss: 0.0135 - val_mean_squared_error: 0.0012 - val_mean_absolute_error: 0.0260 - val_mean_absolute_percentage_error: 10.6450 - val_mean_squared_logarithmic_error: 1.7871e-04\n",
      "Epoch 3/10\n",
      "\n",
      "Epoch 00003: val_loss improved from 0.01352 to 0.01126, saving model to ./model.h5\n",
      "35100/35100 - 2s - loss: 0.0127 - mean_squared_error: 0.0013 - mean_absolute_error: 0.0268 - mean_absolute_percentage_error: 10.7461 - mean_squared_logarithmic_error: 1.6714e-04 - val_loss: 0.0113 - val_mean_squared_error: 6.5070e-04 - val_mean_absolute_error: 0.0192 - val_mean_absolute_percentage_error: 6.7174 - val_mean_squared_logarithmic_error: 9.9788e-05\n",
      "Epoch 4/10\n",
      "\n",
      "Epoch 00004: val_loss did not improve from 0.01126\n",
      "35100/35100 - 2s - loss: 0.0111 - mean_squared_error: 0.0012 - mean_absolute_error: 0.0262 - mean_absolute_percentage_error: 10.5078 - mean_squared_logarithmic_error: 1.5931e-04 - val_loss: 0.0113 - val_mean_squared_error: 0.0021 - val_mean_absolute_error: 0.0371 - val_mean_absolute_percentage_error: 17.7812 - val_mean_squared_logarithmic_error: 3.4897e-04\n",
      "Epoch 5/10\n",
      "\n",
      "Epoch 00005: val_loss improved from 0.01126 to 0.00932, saving model to ./model.h5\n",
      "35100/35100 - 2s - loss: 0.0100 - mean_squared_error: 0.0014 - mean_absolute_error: 0.0280 - mean_absolute_percentage_error: 11.3280 - mean_squared_logarithmic_error: 1.8115e-04 - val_loss: 0.0093 - val_mean_squared_error: 0.0012 - val_mean_absolute_error: 0.0244 - val_mean_absolute_percentage_error: 8.6044 - val_mean_squared_logarithmic_error: 9.4361e-05\n",
      "Epoch 6/10\n",
      "\n",
      "Epoch 00006: val_loss did not improve from 0.00932\n",
      "35100/35100 - 2s - loss: 0.0094 - mean_squared_error: 0.0012 - mean_absolute_error: 0.0259 - mean_absolute_percentage_error: 10.9041 - mean_squared_logarithmic_error: 1.5316e-04 - val_loss: 0.0106 - val_mean_squared_error: 0.0026 - val_mean_absolute_error: 0.0423 - val_mean_absolute_percentage_error: 16.1435 - val_mean_squared_logarithmic_error: 3.1477e-04\n",
      "Epoch 7/10\n",
      "\n",
      "Epoch 00007: val_loss did not improve from 0.00932\n",
      "35100/35100 - 2s - loss: 0.0091 - mean_squared_error: 0.0011 - mean_absolute_error: 0.0245 - mean_absolute_percentage_error: 10.2918 - mean_squared_logarithmic_error: 1.3234e-04 - val_loss: 0.0096 - val_mean_squared_error: 0.0017 - val_mean_absolute_error: 0.0358 - val_mean_absolute_percentage_error: 19.0797 - val_mean_squared_logarithmic_error: 2.4522e-04\n",
      "Epoch 8/10\n",
      "\n",
      "Epoch 00008: val_loss improved from 0.00932 to 0.00863, saving model to ./model.h5\n",
      "35100/35100 - 2s - loss: 0.0088 - mean_squared_error: 0.0010 - mean_absolute_error: 0.0239 - mean_absolute_percentage_error: 10.5483 - mean_squared_logarithmic_error: 1.2310e-04 - val_loss: 0.0086 - val_mean_squared_error: 0.0010 - val_mean_absolute_error: 0.0252 - val_mean_absolute_percentage_error: 10.7473 - val_mean_squared_logarithmic_error: 1.2672e-04\n",
      "Epoch 9/10\n",
      "\n",
      "Epoch 00009: val_loss improved from 0.00863 to 0.00801, saving model to ./model.h5\n",
      "35100/35100 - 2s - loss: 0.0085 - mean_squared_error: 9.7521e-04 - mean_absolute_error: 0.0229 - mean_absolute_percentage_error: 9.6587 - mean_squared_logarithmic_error: 1.0980e-04 - val_loss: 0.0080 - val_mean_squared_error: 5.9716e-04 - val_mean_absolute_error: 0.0190 - val_mean_absolute_percentage_error: 7.7463 - val_mean_squared_logarithmic_error: 6.4944e-05\n",
      "Epoch 10/10\n",
      "\n",
      "Epoch 00010: val_loss did not improve from 0.00801\n",
      "35100/35100 - 2s - loss: 0.0084 - mean_squared_error: 0.0010 - mean_absolute_error: 0.0232 - mean_absolute_percentage_error: 9.5717 - mean_squared_logarithmic_error: 1.0712e-04 - val_loss: 0.0080 - val_mean_squared_error: 7.2556e-04 - val_mean_absolute_error: 0.0209 - val_mean_absolute_percentage_error: 8.8638 - val_mean_squared_logarithmic_error: 7.5948e-05\n"
     ]
    }
   ],
   "source": [
    "print(\"[INFO] training model...\")\n",
    "history = model.fit(x_train, \n",
    "                    y_train, \n",
    "                    epochs=10, \n",
    "                    batch_size=64, \n",
    "                    verbose=2, \n",
    "                    validation_data=(x_test, y_test), \n",
    "                    callbacks=[tbCallBack,checkpoint,csv_logger,earlystopping])"
   ]
  },
  {
   "cell_type": "markdown",
   "id": "262450d2",
   "metadata": {},
   "source": [
    "### Print keys' history"
   ]
  },
  {
   "cell_type": "code",
   "execution_count": 105,
   "id": "61118881",
   "metadata": {},
   "outputs": [
    {
     "name": "stdout",
     "output_type": "stream",
     "text": [
      "dict_keys(['loss', 'mean_squared_error', 'mean_absolute_error', 'mean_absolute_percentage_error', 'mean_squared_logarithmic_error', 'val_loss', 'val_mean_squared_error', 'val_mean_absolute_error', 'val_mean_absolute_percentage_error', 'val_mean_squared_logarithmic_error'])\n"
     ]
    },
    {
     "data": {
      "text/plain": [
       "{'loss': [0.06647123660690595,\n",
       "  0.015421793371163032,\n",
       "  0.0127018824100834,\n",
       "  0.011126705372753816,\n",
       "  0.009975937595246015,\n",
       "  0.009368345336908968,\n",
       "  0.009064758151578598,\n",
       "  0.00877594762707283,\n",
       "  0.00851904759931768,\n",
       "  0.008363819525728369],\n",
       " 'mean_squared_error': [0.0104984585,\n",
       "  0.0012735421,\n",
       "  0.0012770711,\n",
       "  0.001212756,\n",
       "  0.0014038675,\n",
       "  0.0012459683,\n",
       "  0.001112196,\n",
       "  0.0010490201,\n",
       "  0.0009752051,\n",
       "  0.0010023029],\n",
       " 'mean_absolute_error': [0.051181685,\n",
       "  0.026103497,\n",
       "  0.026789056,\n",
       "  0.026167415,\n",
       "  0.027993893,\n",
       "  0.025878847,\n",
       "  0.024529058,\n",
       "  0.023871502,\n",
       "  0.0229049,\n",
       "  0.023238521],\n",
       " 'mean_absolute_percentage_error': [18.247631,\n",
       "  9.992563,\n",
       "  10.746063,\n",
       "  10.5077915,\n",
       "  11.327997,\n",
       "  10.904136,\n",
       "  10.291769,\n",
       "  10.548333,\n",
       "  9.658707,\n",
       "  9.571725],\n",
       " 'mean_squared_logarithmic_error': [0.0016139017,\n",
       "  0.00014442657,\n",
       "  0.0001671429,\n",
       "  0.00015930635,\n",
       "  0.00018114835,\n",
       "  0.00015316483,\n",
       "  0.00013234126,\n",
       "  0.00012309893,\n",
       "  0.00010979876,\n",
       "  0.00010711606],\n",
       " 'val_loss': [0.018005583400272914,\n",
       "  0.013519568478959238,\n",
       "  0.011257970691618756,\n",
       "  0.011265389146840471,\n",
       "  0.00931577573920417,\n",
       "  0.010626949747530824,\n",
       "  0.009560498582501697,\n",
       "  0.008626232319471672,\n",
       "  0.008013668654438777,\n",
       "  0.008046963165522131],\n",
       " 'val_mean_squared_error': [0.00074348366,\n",
       "  0.0012147602,\n",
       "  0.000650703,\n",
       "  0.0020964053,\n",
       "  0.0011879336,\n",
       "  0.0025636682,\n",
       "  0.0016935151,\n",
       "  0.0010312311,\n",
       "  0.00059715647,\n",
       "  0.0007255596],\n",
       " 'val_mean_absolute_error': [0.017059065,\n",
       "  0.02602731,\n",
       "  0.019213831,\n",
       "  0.037102237,\n",
       "  0.024377987,\n",
       "  0.04226721,\n",
       "  0.035827298,\n",
       "  0.025198933,\n",
       "  0.019009167,\n",
       "  0.020949103],\n",
       " 'val_mean_absolute_percentage_error': [5.282668,\n",
       "  10.645031,\n",
       "  6.7173743,\n",
       "  17.781233,\n",
       "  8.604372,\n",
       "  16.143473,\n",
       "  19.07967,\n",
       "  10.747263,\n",
       "  7.746271,\n",
       "  8.863803],\n",
       " 'val_mean_squared_logarithmic_error': [4.3604385e-05,\n",
       "  0.00017870952,\n",
       "  9.978753e-05,\n",
       "  0.00034897184,\n",
       "  9.4361254e-05,\n",
       "  0.0003147719,\n",
       "  0.00024521575,\n",
       "  0.00012671525,\n",
       "  6.494418e-05,\n",
       "  7.594782e-05]}"
      ]
     },
     "execution_count": 105,
     "metadata": {},
     "output_type": "execute_result"
    }
   ],
   "source": [
    "# Plot history keys\n",
    "print(history.history.keys())\n",
    "\n",
    "# Plot history \n",
    "history.history"
   ]
  },
  {
   "cell_type": "markdown",
   "id": "97d95ebc",
   "metadata": {},
   "source": [
    "### Plot error metrics"
   ]
  },
  {
   "cell_type": "code",
   "execution_count": 106,
   "id": "7a5d0507",
   "metadata": {},
   "outputs": [
    {
     "data": {
      "image/png": "[encoded data removed]",
      "text/plain": [
       "<Figure size 388.543x240.133 with 1 Axes>"
      ]
     },
     "metadata": {
      "needs_background": "light"
     },
     "output_type": "display_data"
    },
    {
     "data": {
      "image/png": "[encoded data removed]",
      "text/plain": [
       "<Figure size 388.543x240.133 with 1 Axes>"
      ]
     },
     "metadata": {
      "needs_background": "light"
     },
     "output_type": "display_data"
    },
    {
     "data": {
      "image/png": "[encoded data removed]",
      "text/plain": [
       "<Figure size 388.543x240.133 with 1 Axes>"
      ]
     },
     "metadata": {
      "needs_background": "light"
     },
     "output_type": "display_data"
    },
    {
     "data": {
      "image/png": "[encoded data removed]",
      "text/plain": [
       "<Figure size 388.543x240.133 with 1 Axes>"
      ]
     },
     "metadata": {
      "needs_background": "light"
     },
     "output_type": "display_data"
    }
   ],
   "source": [
    "plt.figure()\n",
    "plt.plot(history.history['mean_squared_error'])\n",
    "plt.plot(history.history['val_mean_squared_error'])\n",
    "plt.title('model MSE')\n",
    "plt.ylabel('mean squared error')\n",
    "plt.xlabel('epoch')\n",
    "plt.legend(['train', 'validation'], loc='upper left')\n",
    "plt.tight_layout()\n",
    "plt.savefig(\"MSE.pdf\", dpi=150)\n",
    "plt.show()\n",
    "\n",
    "plt.figure()\n",
    "plt.plot(history.history['mean_absolute_error'])\n",
    "plt.plot(history.history['val_mean_absolute_error'])\n",
    "plt.title('model MAE')\n",
    "plt.ylabel('mean absolute error')\n",
    "plt.xlabel('epoch')\n",
    "plt.legend(['train', 'validation'], loc='upper left')\n",
    "plt.tight_layout()\n",
    "plt.savefig(\"MAE.pdf\", dpi=150)\n",
    "plt.show()\n",
    "\n",
    "plt.figure()\n",
    "plt.plot(history.history['mean_absolute_percentage_error'])\n",
    "plt.plot(history.history['val_mean_absolute_percentage_error'])\n",
    "plt.title('model MAPE')\n",
    "plt.ylabel('mean absolute percentage error')\n",
    "plt.xlabel('epoch')\n",
    "plt.legend(['train', 'validation'\n",
    "\n",
    "], loc='upper left')\n",
    "plt.tight_layout()\n",
    "plt.savefig(\"MAPE.pdf\", dpi=150)\n",
    "plt.show()\n",
    "\n",
    "plt.figure()\n",
    "plt.plot(history.history['mean_squared_logarithmic_error'])\n",
    "plt.plot(history.history['val_mean_squared_logarithmic_error'])\n",
    "plt.title('model MSLE')\n",
    "plt.ylabel('mean squared logarithmic error')\n",
    "plt.xlabel('epoch')\n",
    "plt.legend(['train', 'validation'], loc='upper left')\n",
    "plt.tight_layout()\n",
    "plt.savefig(\"MSLE.pdf\", dpi=150)\n",
    "plt.show()"
   ]
  },
  {
   "cell_type": "markdown",
   "id": "9e31b276",
   "metadata": {},
   "source": [
    "### Perform prediction"
   ]
  },
  {
   "cell_type": "code",
   "execution_count": 107,
   "id": "2706cf0e",
   "metadata": {},
   "outputs": [
    {
     "name": "stdout",
     "output_type": "stream",
     "text": [
      "[INFO] predicting...\n",
      "Prediction for 11700 inputs in 0.730682 s\n"
     ]
    },
    {
     "data": {
      "image/png": "[encoded data removed]",
      "text/plain": [
       "<Figure size 388.543x240.133 with 1 Axes>"
      ]
     },
     "metadata": {
      "needs_background": "light"
     },
     "output_type": "display_data"
    },
    {
     "name": "stdout",
     "output_type": "stream",
     "text": [
      "Final score (MSE): 0.0007255594050467008\n",
      "Final score (MAE): 0.020949105280490217\n",
      "Final score (RMSE): 0.026936209923571295\n"
     ]
    },
    {
     "data": {
      "image/png": "[encoded data removed]",
      "text/plain": [
       "<Figure size 388.543x240.133 with 1 Axes>"
      ]
     },
     "metadata": {
      "needs_background": "light"
     },
     "output_type": "display_data"
    }
   ],
   "source": [
    "# Predict\n",
    "print(\"[INFO] predicting...\")\n",
    "t0 = time.time()\n",
    "pred = model.predict(x_test)\n",
    "regr_predict = time.time() - t0\n",
    "print(\"Prediction for %d inputs in %.6f s\" % (x_test.shape[0], regr_predict))\n",
    "\n",
    "fig, ax = plt.subplots()\n",
    "ax.scatter(y_test, pred, s=2)\n",
    "ax.plot([y_test.min(), y_test.max()], [y_test.min(), y_test.max()], 'k--', lw=1)\n",
    "ax.set_xlabel('Measured')\n",
    "ax.set_ylabel('Predicted')\n",
    "plt.show()\n",
    "\n",
    "score = metrics.mean_squared_error(pred, y_test)\n",
    "print(\"Final score (MSE): {}\".format(score))\n",
    "\n",
    "score = metrics.mean_absolute_error(pred, y_test)\n",
    "print(\"Final score (MAE): {}\".format(score))\n",
    "\n",
    "score = np.sqrt(metrics.mean_squared_error(pred, y_test))\n",
    "print(\"Final score (RMSE): {}\".format(score))\n",
    "\n",
    "# Regression chart\n",
    "def chart_regression(pred, y, sort=True):\n",
    "    t = pd.DataFrame({'pred': pred, 'y': y.flatten()})\n",
    "    if sort:\n",
    "        t.sort_values(by=['y'], inplace=True)\n",
    "    plt.plot(t['y'].tolist(), label='expected')\n",
    "    plt.plot(t['pred'].tolist(), label='prediction')\n",
    "    plt.ylabel('output')\n",
    "    plt.legend()\n",
    "    plt.tight_layout()\n",
    "    plt.savefig(\"adim_regression.pdf\", dpi=150)\n",
    "    plt.show()\n",
    "\n",
    "# Plot regression chart\n",
    "chart_regression(pred.flatten(), y_test)"
   ]
  },
  {
   "cell_type": "markdown",
   "id": "5f0b136c",
   "metadata": {},
   "source": [
    "### Save the model"
   ]
  },
  {
   "cell_type": "code",
   "execution_count": 108,
   "id": "ba549234",
   "metadata": {},
   "outputs": [],
   "source": [
    "model.save('shear_keras_model.h5', include_optimizer=False)"
   ]
  }
 ],
 "metadata": {
  "kernelspec": {
   "display_name": "Python 3",
   "language": "python",
   "name": "python3"
  },
  "language_info": {
   "codemirror_mode": {
    "name": "ipython",
    "version": 3
   },
   "file_extension": ".py",
   "mimetype": "text/x-python",
   "name": "python",
   "nbconvert_exporter": "python",
   "pygments_lexer": "ipython3",
   "version": "3.7.11"
  }
 },
 "nbformat": 4,
 "nbformat_minor": 5
}
