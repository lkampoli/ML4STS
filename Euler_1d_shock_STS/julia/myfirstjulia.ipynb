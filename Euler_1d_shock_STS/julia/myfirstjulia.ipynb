{
 "cells": [
  {
   "cell_type": "code",
   "execution_count": 1,
   "metadata": {},
   "outputs": [
    {
     "name": "stdout",
     "output_type": "stream",
     "text": [
      "Julia Version 1.6.0-DEV.1301\n",
      "Commit 278d4e032b (2020-10-21 09:50 UTC)\n",
      "Platform Info:\n",
      "  OS: Linux (x86_64-linux-gnu)\n",
      "  CPU: Intel(R) Core(TM) i3-4030U CPU @ 1.90GHz\n",
      "  WORD_SIZE: 64\n",
      "  LIBM: libopenlibm\n",
      "  LLVM: libLLVM-11.0.0 (ORCJIT, haswell)\n"
     ]
    }
   ],
   "source": [
    "versioninfo() # version information"
   ]
  },
  {
   "cell_type": "code",
   "execution_count": 2,
   "metadata": {},
   "outputs": [],
   "source": [
    "using MAT"
   ]
  },
  {
   "cell_type": "code",
   "execution_count": 3,
   "metadata": {},
   "outputs": [],
   "source": [
    "using SymPy"
   ]
  },
  {
   "cell_type": "code",
   "execution_count": 4,
   "metadata": {},
   "outputs": [],
   "source": [
    "using JuMP, Ipopt, GLPK"
   ]
  },
  {
   "cell_type": "code",
   "execution_count": 5,
   "metadata": {},
   "outputs": [],
   "source": [
    "using NLsolve"
   ]
  },
  {
   "cell_type": "code",
   "execution_count": 6,
   "metadata": {},
   "outputs": [],
   "source": [
    "using IntervalRootFinding, IntervalArithmetic, StaticArrays"
   ]
  },
  {
   "cell_type": "code",
   "execution_count": 26,
   "metadata": {},
   "outputs": [
    {
     "name": "stderr",
     "output_type": "stream",
     "text": [
      "WARNING: replacing module my_module.\n"
     ]
    },
    {
     "data": {
      "text/plain": [
       "Main.my_module"
      ]
     },
     "execution_count": 26,
     "metadata": {},
     "output_type": "execute_result"
    }
   ],
   "source": [
    "include(\"mytest.jl\")"
   ]
  },
  {
   "cell_type": "code",
   "execution_count": 25,
   "metadata": {},
   "outputs": [
    {
     "name": "stdout",
     "output_type": "stream",
     "text": [
      "Ciaooooooo!\n"
     ]
    }
   ],
   "source": [
    "my_module.my_module_test_print()"
   ]
  },
  {
   "cell_type": "code",
   "execution_count": 29,
   "metadata": {},
   "outputs": [
    {
     "data": {
      "text/plain": [
       "12.0"
      ]
     },
     "execution_count": 29,
     "metadata": {},
     "output_type": "execute_result"
    }
   ],
   "source": [
    "my_module.addme(10.,2)"
   ]
  },
  {
   "cell_type": "code",
   "execution_count": 7,
   "metadata": {},
   "outputs": [
    {
     "data": {
      "text/plain": [
       "main (generic function with 1 method)"
      ]
     },
     "execution_count": 7,
     "metadata": {},
     "output_type": "execute_result"
    }
   ],
   "source": [
    "function main()\n",
    "    \n",
    "    println(\"Ciao Lollo!\")\n",
    "    \n",
    "    sw_sp = 1;                                                                                                                          \n",
    "    sw_o = 1;                                                                                                                           \n",
    "    xc = [1; 0];                                                                                                                        \n",
    "                                                                                                                                       \n",
    "    x_w = 1000;                                                                                                                         \n",
    "                                                                                                                                      \n",
    "    c = 2.99e8;                                                                                                                         \n",
    "    h = 6.6261e-34;                                                                                                                     \n",
    "    k = 1.3807e-23;                                                                                                                     \n",
    "    N_a = 6.0221e23;                                                                                                                    \n",
    "    h_bar = h/(2*pi);                                                                                                                   \n",
    "    R = 8.3145;     \n",
    "    \n",
    "    file = matopen(\"data_species.mat\")\n",
    "    varnames = names(file)\n",
    "    vars = matread(\"data_species.mat\")\n",
    "    #read(file, \"varname\") # note that this does NOT introduce a variable ``varname`` into scope     \n",
    "    close(file)\n",
    "    \n",
    "    display(vars)\n",
    "    display(varnames)\n",
    "           \n",
    "    # Accessing all the Keys  using 'keys' keyword \n",
    "    Keys = keys(vars) \n",
    "    println(\"Keys = \", Keys) \n",
    "  \n",
    "    # Accessing all the Values using 'values' keyword \n",
    "    Values = values(vars) \n",
    "    println(\"Values = \", Values) \n",
    "    \n",
    "    om_e = get(vars, \"OMEGA\", 0)\n",
    "    om_e = om_e[sw_sp,1] # m^-1\n",
    "    display(om_e)\n",
    "    \n",
    "    om_x_e = get(vars, \"OMEGA\", 0)\n",
    "    om_x_e = om_x_e[sw_sp,2] # m^-1\n",
    "    display(om_x_e)\n",
    "    \n",
    "    Be = get(vars, \"BE\", 0)\n",
    "    Be = Be[sw_sp] # m^-1\n",
    "    display(Be)\n",
    "    \n",
    "    CA = get(vars, \"CArr\", 0)\n",
    "    CA = CA[sw_sp,:] # m^3/s                                                                                                         \n",
    "    display(CA)\n",
    "    \n",
    "    nA = get(vars, \"NArr\", 0)\n",
    "    nA = nA[sw_sp,:]                                                                                                                 \n",
    "    display(nA)                \n",
    "    \n",
    "    l = get(vars, \"QN\", 0)\n",
    "    l = [sw_sp,sw_o]\n",
    "    display(l)\n",
    "    \n",
    "    om_0 = om_e - om_x_e                                                                                                                \n",
    "    om_x_e_0 = om_x_e                                                                                                                   \n",
    "     \n",
    "    #e_i = en_vibr\n",
    "    if sw_o == 1                                                                                                                        \n",
    "        e_i = h*c*(om_0*(0:l-1)'-om_x_e_0*((0:l-1)').^2)                                                                                  \n",
    "    else                                                                                                                                \n",
    "        e_i = h*c*om_e*(0:l-1)'                                                                                                           \n",
    "    end\n",
    "    display(e_i)\n",
    "       \n",
    "    #e_0 = en_vibr_0    \n",
    "    if sw_o == 1                                                                                                                        \n",
    "        e_0 = h*c*(0.5*om_e-0.25*om_x_e)                                                                                                 \n",
    "    else                                                                                                                                \n",
    "        e_0 = h*c*0.5*om_e                                                                                                               \n",
    "    end         \n",
    "    display(e_0)\n",
    "              \n",
    "    mu = get(vars, \"MU\", 0)\n",
    "    mu = [mu[sw_sp]; 0.5*mu[sw_sp]]*1e-3\n",
    "    m = mu / N_a\n",
    "    display(m)\n",
    "      \n",
    "    R0_ = get(vars, \"R0\", 0)\n",
    "    sigma0 = pi*R0_[sw_sp,1]^2                                                                                                                                                                                                                         \n",
    "    r0 = [R0_[sw_sp,1]; 0.5*(R0_[sw_sp,1]+R0_[sw_sp,2])]                                             \n",
    "    display(r0)\n",
    "                                                      \n",
    "    EM_ = get(vars, \"EM\", 0)\n",
    "    em = [EM_[sw_sp,1]; sqrt(EM_[sw_sp,1]*EM_[sw_sp,2]*R0_[sw_sp,1]^6 * R0_[sw_sp,2]^6)/r0[2]^6]\n",
    "    display(em)\n",
    "    \n",
    "    RE_ = get(vars, \"RE\", 0)\n",
    "    re = RE_[sw_sp]\n",
    "    display(re)\n",
    "            \n",
    "    p0 = 0.8*133.322 # Pa            \n",
    "    T0 = 300 # K\n",
    "    Tv0 = T0\n",
    "    M0 = 13.4\n",
    "    \n",
    "    n0 = p0/(k*T0)\n",
    "    \n",
    "    if xc[1] != 0\n",
    "        gamma0 = 1.4\n",
    "    else\n",
    "        gamma0 = 5/3\n",
    "    end\n",
    "            \n",
    "    rho0_c = m.*xc*n0\n",
    "                                                                                                                                      \n",
    "    rho0 = sum(rho0_c)\n",
    "                                                                                                                                      \n",
    "    mu_mix = sum(rho0_c./mu)/rho0                                                                                              \n",
    "                                                                                                                                       \n",
    "    R_bar = R*mu_mix                                                                                                           \n",
    "                                                                                                                                       \n",
    "    a0 = sqrt(gamma0*R_bar*T0)                                                                                                 \n",
    "                                                                                                                                       \n",
    "    v0 = M0*a0\n",
    "           \n",
    "    #n, v, t = Sym(\"n\", \"v\", \"t\") \n",
    "    #n, v, t = symbols(\"n\", \"v\", \"t\", real=true)\n",
    "                \n",
    "    xm = xc[1]                                                                                                                         \n",
    "    xa = xc[1]                                                                                                                         \n",
    "                                                                                                                                      \n",
    "    C1 = sum(m.*xc)*v0^2/(k*T0)                                                                                                        \n",
    "    C2 = 0.5*C1  \n",
    "                                                                                                                                          \n",
    "    #S = [n*v == 1, n*t+n*v^2*C1 == 1+C1, 3.5*xm*t+2.5*xa*t+v^2*C2 == 3.5*xm+2.5*xa+C2]\n",
    "                                                                                                                                      \n",
    "    #as = nsolve(S,[n,t,v],[10,100,0.1])\n",
    "    #N.(as)\t\n",
    "    #X = [N.n;N.t;N.v]                                                                                                 \n",
    "    #sol = double(X)                                                                                                                    \n",
    "                                                                                                                                      \n",
    "    #sol1 = sol([1 3 5])                                                                                                                \n",
    "    #sol2 = sol([2 4 6])\n",
    "  \n",
    "    #if any(sol1-1)                                                                                                                      \n",
    "    #  Y = sol1                                                                                                                       \n",
    "    #elseif any(sol2-1)                                                                                                                  \n",
    "    #  Y = sol2                                                                                                                       \n",
    "    #end\n",
    "           \n",
    "    #function f(z)\n",
    "    #   n, t, v = z\n",
    "    #   SVector(n*v-1, n*t+n*v^2*C1-1-C1, 3.5*xm*t+2.5*xa*t+v^2*C2-3.5*xm-2.5*xa-C2)\n",
    "    #end\n",
    "    #rts = roots(f, IntervalBox(10,100,0.1))\n",
    "                        \n",
    "    #function f!(F, x)\n",
    "    #    F[1] = x[1]*x[3]-1\n",
    "    #    F[2] = x[1]*x[2]+x[1]*x[3]^2*C1-1-C1\n",
    "    #    F[3] = 3.5*xm*x[2]+2.5*xa*x[2]+x[3]^2*C2-3.5*xm-2.5*xa-C2\n",
    "    #end\n",
    "    #sol = nlsolve(f!, [10;100;0.1])\n",
    "    #sol.zero\n",
    "\n",
    "    #system = Model(solver=IpoptSolver())\n",
    "    #model = Model(with_optimizer(Ipopt.Optimizer, max_cpu_time=60.0))\n",
    "    #model = Model(solver=IpoptSolver())\n",
    "    #model = Model()\n",
    "    #model = Model(GLPK.Optimizer)\n",
    "    #model = Model(optimizer_with_attributes(Ipopt.Optimizer, \"print_level\" => 0));\n",
    "    #@variable(model, n)\n",
    "    #@variable(model, v)\n",
    "    #@variable(model, t)\n",
    "    #@NLconstraint(model, n*v == 1)\n",
    "    #@NLconstraint(model, n*t+n*v^2*C1 == 1+C1)\n",
    "    #@NLconstraint(model, 3.5*xm*t+2.5*xa*t+v^2*C2 == 3.5*xm+2.5*xa+C2)\n",
    "    #@NLobjective(model, 1 / x)\n",
    "    #solve(model)\n",
    "    #optimize!(model)\n",
    "    #optimize!(model)\n",
    "    #objective_value(model)\n",
    "    #@NLobjective(model)\n",
    "    #optimize!(model)\n",
    "    #println(\"n = \", value(n), \" t = \", value(t), \" v = \", value(v))\n",
    "    #sol = getvalue.((n,v,t))\n",
    "    #            \n",
    "    #sol1 = sol([1 3 5])                                                                                                                \n",
    "    #sol2 = sol([2 4 6])\n",
    "    # \n",
    "    #if any(sol1-1)                                                                                                                      \n",
    "    #  Y = sol1                                                                                                                       \n",
    "    #elseif any(sol2-1)                                                                                                                  \n",
    "    #  Y = sol2                                                                                                                       \n",
    "    #end\n",
    "                    \n",
    "    n1 = 1 #Y[1]                                                                                                                 \n",
    "    T1 = 1 #Y[2]                                                                                                                 \n",
    "    v1 = 1 #Y[3]                                                                                                                 \n",
    "    \n",
    "    Zvibr_0 = sum(exp.(-e_i/Tv0/k))\n",
    "    display(Zvibr_0)\n",
    "              \n",
    "    display(l+3)\n",
    "    #Y0_bar = zeros(l+3)                                                                                                      \n",
    "    Y0_bar = zeros(50)                                                                                                              \n",
    "                                                                                                                                       \n",
    "    #Y0_bar[1:l] = xc[1]*n1/Zvibr_0*exp(-e_i/Tv0/k)                                                                             \n",
    "    #Y0_bar[l+1] = xc[2]*n1                                                                                                     \n",
    "    #Y0_bar[l+2] = v1                                                                                                           \n",
    "    #Y0_bar[l+3] = T1                                                                                                           \n",
    "                                                                                                                                      \n",
    "    #Delta = 1/(sqrt(2)*n0*sigma0)                                                                                              \n",
    "    #xspan = [0, x_w]./Delta\n",
    "                    \n",
    "    #opts = odeset('RelTol', 1e-12, 'AbsTol', 1e-12)\n",
    "    #[X,Y] = ode15s(@rpart, xspan, Y0_bar, opts)     \n",
    "                \n",
    "    #x_s = X*Delta*100                                                                                                                                                                                                                                             \n",
    "    #Temp = Y[:,l+3]*T0                                                                                                             \n",
    "    #v = Y[:,l+2]*v0                                                                                                                   \n",
    "    #n_i = Y[:,1:l]*n0                                                                                                                  \n",
    "    #n_a = Y[:,l+1]*n0                                                                                                                  \n",
    "    #n_m = sum(n_i,2)                                                                                                                  \n",
    "    #time_s = X*Delta/v0 # sec                                                                                                          \n",
    "    #Npoint = length(X)                                                                                                                 \n",
    "    #Nall = sum(n_i,2)+n_a                                                                                                              \n",
    "    #ni_n = n_i./repmat(Nall,1,l);     # repeat(Nall,1,l)                                                                                                   \n",
    "    #nm_n = sum(ni_n,2)                                                                                                                 \n",
    "    #na_n = n_a./Nall                                                                                                                   \n",
    "    #rho = m[1]*n_m + m[2]*n_a;                                                                                                          \n",
    "    #p = Nall*k.*Temp                                                                                                                   \n",
    "    #e_v = repmat(e_i'+e_0,Npoint,1).*n_i;                                                                                               \n",
    "    #e_v = sum(e_v,2)                                                                                                                   \n",
    "    #e_v0 = n0*xc[1]/Zvibr_0*sum(exp(-e_i/Tv0/k).*(e_i+e_0));                                                                            \n",
    "    #e_f = 0.5*D*n_a*k                                                                                                                  \n",
    "    #e_f0 = 0.5*D*xc[2]*n0*k                                                                                                            \n",
    "    #e_tr = 1.5*Nall*k.*Temp                                                                                                            \n",
    "    #e_tr0 = 1.5*n0*k.*T0                                                                                                               \n",
    "    #e_rot = n_m*k.*Temp                                                                                                                \n",
    "    #e_rot0 = n0*xc[1]*k.*T0                                                                                                            \n",
    "    #E = e_tr+e_rot+e_v+e_f\n",
    "    #H0 = (E0+p0)./rho0;                                                                                                                 \n",
    "    #u10 = rho0*v0;                                                                                                                      \n",
    "    #u20 = rho0*v0^2+p0;                                                                                                                 \n",
    "    #u30 = H0+v0^2/2;                                                                                                                    \n",
    "    #u1 = u10-rho.*v;                                                                                                                    \n",
    "    #u2 = u20-rho.*v.^2-p;                                                                                                               \n",
    "    #u3 = u30-H-v.^2/2;                                                                                                                  \n",
    "    #d1 = max(abs(u1)/u10);                                                                                                              \n",
    "    #d2 = max(abs(u2)/u20);                                                                                                              \n",
    "    #d3 = max(abs(u3)/u30);                                                                                                              \n",
    "    #display('Relative error of conservation law of:');                                                                                     \n",
    "    #display(['mass = ',num2str(d1)]);                                                                                                      \n",
    "    #display(['momentum = ',num2str(d2)]);                                                                                                  \n",
    "    #display(['energy = ',num2str(d3)]);\n",
    "                        \n",
    "end"
   ]
  },
  {
   "cell_type": "code",
   "execution_count": null,
   "metadata": {},
   "outputs": [],
   "source": []
  },
  {
   "cell_type": "code",
   "execution_count": 8,
   "metadata": {},
   "outputs": [
    {
     "data": {
      "text/plain": [
       "Dict{String, Any} with 11 entries:\n",
       "  \"CArr\"  => [6.14404e-9 2.65688e-8; 3.3045e-9 1.65889e-8]\n",
       "  \"ED\"    => [113500.0; 59379.0]\n",
       "  \"RE\"    => [1.097e-10; 1.207e-10]\n",
       "  \"NArr\"  => [-1.6 -1.6; -1.5 -1.5]\n",
       "  \"MU\"    => [28.0; 32.0]\n",
       "  \"R0\"    => [3.621e-10 3.298e-10; 3.458e-10 2.75e-10]\n",
       "  \"EM\"    => [97.5 71.4; 107.4 80.0]\n",
       "  \"BE\"    => [199.8; 143.77]\n",
       "  \"OMEGA\" => [235857.0 1432.0; 158019.0 1198.0]\n",
       "  \"QN\"    => [47.0 33.0; 36.0 26.0]\n",
       "  \"ans\"   => 1.50604e5"
      ]
     },
     "metadata": {},
     "output_type": "display_data"
    },
    {
     "data": {
      "text/plain": [
       "KeySet for a Dict{String, Int64} with 11 entries. Keys:\n",
       "  \"CArr\"\n",
       "  \"ED\"\n",
       "  \"RE\"\n",
       "  \"NArr\"\n",
       "  \"MU\"\n",
       "  \"R0\"\n",
       "  \"EM\"\n",
       "  \"BE\"\n",
       "  \"OMEGA\"\n",
       "  \"QN\"\n",
       "  \"ans\""
      ]
     },
     "metadata": {},
     "output_type": "display_data"
    },
    {
     "name": "stdout",
     "output_type": "stream",
     "text": [
      "Ciao Lollo!\n",
      "Keys = [\"CArr\", \"ED\", \"RE\", \"NArr\", \"MU\", \"R0\", \"EM\", \"BE\", \"OMEGA\", \"QN\", \"ans\"]\n",
      "Values = Any["
     ]
    },
    {
     "data": {
      "text/plain": [
       "235857.0"
      ]
     },
     "metadata": {},
     "output_type": "display_data"
    },
    {
     "data": {
      "text/plain": [
       "1432.0"
      ]
     },
     "metadata": {},
     "output_type": "display_data"
    },
    {
     "data": {
      "text/plain": [
       "199.8"
      ]
     },
     "metadata": {},
     "output_type": "display_data"
    },
    {
     "data": {
      "text/plain": [
       "2-element Vector{Float64}:\n",
       " 6.1440361335746665e-9\n",
       " 2.6568804901944503e-8"
      ]
     },
     "metadata": {},
     "output_type": "display_data"
    },
    {
     "data": {
      "text/plain": [
       "2-element Vector{Float64}:\n",
       " -1.6\n",
       " -1.6"
      ]
     },
     "metadata": {},
     "output_type": "display_data"
    },
    {
     "data": {
      "text/plain": [
       "2-element Vector{Int64}:\n",
       " 1\n",
       " 1"
      ]
     },
     "metadata": {},
     "output_type": "display_data"
    },
    {
     "name": "stdout",
     "output_type": "stream",
     "text": [
      "[6.1440361335746665e-9 2.6568804901944503e-8; 3.304495109679348e-9 1.65888975606516e-8], [113500.0; 59379.0], [1.097e-10; 1.207e-10], [-1.6 -1.6; -1.5 -1.5], [28.0; 32.0], [3.621e-10 3.298e-10; 3.458e-10 2.75e-10], [97.5 71.4; 107.4 80.0], [199.8; 143.77], [235857.0 1432.0; 158019.0 1198.0], [47.0 33.0; 36.0 26.0], 150604.46000000002]\n"
     ]
    },
    {
     "ename": "LoadError",
     "evalue": "MethodError: no method matching -(::Vector{Int64}, ::Int64)\nFor element-wise subtraction, use broadcasting with dot syntax: array .- scalar\nClosest candidates are:\n  -(!Matched::T, ::T) where T<:Union{Int128, Int16, Int32, Int64, Int8, UInt128, UInt16, UInt32, UInt64, UInt8} at int.jl:86\n  -(!Matched::Union{MathOptInterface.ScalarAffineFunction{T}, MathOptInterface.ScalarQuadraticFunction{T}}, ::T) where T at /home/lk/.julia/packages/MathOptInterface/k7UUH/src/Utilities/functions.jl:1142\n  -(!Matched::AbstractVariableRef, ::Union{Number, LinearAlgebra.UniformScaling}) at /home/lk/.julia/packages/JuMP/e0Uc2/src/operators.jl:62\n  ...",
     "output_type": "error",
     "traceback": [
      "MethodError: no method matching -(::Vector{Int64}, ::Int64)\nFor element-wise subtraction, use broadcasting with dot syntax: array .- scalar\nClosest candidates are:\n  -(!Matched::T, ::T) where T<:Union{Int128, Int16, Int32, Int64, Int8, UInt128, UInt16, UInt32, UInt64, UInt8} at int.jl:86\n  -(!Matched::Union{MathOptInterface.ScalarAffineFunction{T}, MathOptInterface.ScalarQuadraticFunction{T}}, ::T) where T at /home/lk/.julia/packages/MathOptInterface/k7UUH/src/Utilities/functions.jl:1142\n  -(!Matched::AbstractVariableRef, ::Union{Number, LinearAlgebra.UniformScaling}) at /home/lk/.julia/packages/JuMP/e0Uc2/src/operators.jl:62\n  ...",
      "",
      "Stacktrace:",
      "  [1] main()",
      "    @ Main ./In[7]:64",
      "  [2] top-level scope",
      "    @ In[8]:1",
      "  [3] eval",
      "    @ ./boot.jl:360 [inlined]",
      "  [4] include_string(mapexpr::IJulia.var\"#37#38\", mod::Module, code::String, filename::String)",
      "    @ Base ./loading.jl:1106",
      "  [5] execute_code(code::String, filename::String)",
      "    @ IJulia ~/.julia/packages/IJulia/rWZ9e/src/execute_request.jl:27",
      "  [6] execute_request(socket::ZMQ.Socket, msg::IJulia.Msg)",
      "    @ IJulia ~/.julia/packages/IJulia/rWZ9e/src/execute_request.jl:86",
      "  [7] #invokelatest#2",
      "    @ ./essentials.jl:707 [inlined]",
      "  [8] invokelatest",
      "    @ ./essentials.jl:706 [inlined]",
      "  [9] eventloop(socket::ZMQ.Socket)",
      "    @ IJulia ~/.julia/packages/IJulia/rWZ9e/src/eventloop.jl:8",
      " [10] (::IJulia.var\"#15#18\")()",
      "    @ IJulia ./task.jl:395"
     ]
    }
   ],
   "source": [
    "main()"
   ]
  }
 ],
 "metadata": {
  "kernelspec": {
   "display_name": "Julia 1.6.0-DEV",
   "language": "julia",
   "name": "julia-1.6"
  },
  "language_info": {
   "file_extension": ".jl",
   "mimetype": "application/julia",
   "name": "julia",
   "version": "1.6.0"
  }
 },
 "nbformat": 4,
 "nbformat_minor": 2
}
